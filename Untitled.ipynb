{
  "cells": [
    {
      "cell_type": "code",
      "source": [
        "import pandas as pd \n",
        "import numpy as np "
      ],
      "outputs": [
        {
          "output_type": "display_data",
          "data": {
            "application/vnd.livy.statement-meta+json": {
              "spark_pool": "edb86fc0-857b-4b20-a97e-b7ec694549c8",
              "statement_id": 6,
              "statement_ids": [
                6
              ],
              "state": "finished",
              "livy_statement_state": "available",
              "spark_jobs": {
                "numbers": {
                  "SUCCEEDED": 0,
                  "UNKNOWN": 0,
                  "RUNNING": 0,
                  "FAILED": 0
                },
                "jobs": [],
                "limit": 20,
                "rule": "ALL_DESC"
              },
              "session_id": "8",
              "normalized_state": "finished",
              "queued_time": "2024-09-15T13:35:03.0510547Z",
              "session_start_time": "2024-09-15T13:35:03.0809119Z",
              "execution_start_time": "2024-09-15T13:39:21.289429Z",
              "execution_finish_time": "2024-09-15T13:39:28.8817187Z",
              "parent_msg_id": "cfab361c-5790-4b2f-ac65-ce80f168f666"
            },
            "text/plain": "StatementMeta(edb86fc0-857b-4b20-a97e-b7ec694549c8, 8, 6, Finished, Available, Finished)"
          },
          "metadata": {}
        }
      ],
      "execution_count": 1,
      "metadata": {
        "gather": {
          "logged": 1726407474008
        }
      }
    },
    {
      "cell_type": "code",
      "source": [
        "movies = pd.read_csv('Logs/recomendation/ml-latest-small/ml-latest-small/movies.csv')\n",
        "ratings = pd.read_csv('Logs/recomendation/ml-latest-small/ml-latest-small/ratings.csv')\n",
        "links = pd.read_csv('Logs/recomendation/ml-latest-small/ml-latest-small/links.csv')\n",
        "tags = pd.read_csv('Logs/recomendation/ml-latest-small/ml-latest-small/tags.csv')"
      ],
      "outputs": [
        {
          "output_type": "display_data",
          "data": {
            "application/vnd.livy.statement-meta+json": {
              "spark_pool": "edb86fc0-857b-4b20-a97e-b7ec694549c8",
              "statement_id": 8,
              "statement_ids": [
                8
              ],
              "state": "finished",
              "livy_statement_state": "available",
              "spark_jobs": {
                "numbers": {
                  "SUCCEEDED": 0,
                  "UNKNOWN": 0,
                  "RUNNING": 0,
                  "FAILED": 0
                },
                "jobs": [],
                "limit": 20,
                "rule": "ALL_DESC"
              },
              "session_id": "8",
              "normalized_state": "finished",
              "queued_time": "2024-09-15T13:40:37.28631Z",
              "session_start_time": null,
              "execution_start_time": "2024-09-15T13:40:37.4127033Z",
              "execution_finish_time": "2024-09-15T13:40:38.2500569Z",
              "parent_msg_id": "a8c6ceb3-151f-469e-b777-53270dd79f04"
            },
            "text/plain": "StatementMeta(edb86fc0-857b-4b20-a97e-b7ec694549c8, 8, 8, Finished, Available, Finished)"
          },
          "metadata": {}
        }
      ],
      "execution_count": 3,
      "metadata": {
        "jupyter": {
          "source_hidden": false,
          "outputs_hidden": false
        },
        "nteract": {
          "transient": {
            "deleting": false
          }
        },
        "gather": {
          "logged": 1726407543357
        }
      }
    },
    {
      "cell_type": "code",
      "source": [
        "movies.head()\n"
      ],
      "outputs": [
        {
          "output_type": "display_data",
          "data": {
            "application/vnd.livy.statement-meta+json": {
              "spark_pool": "edb86fc0-857b-4b20-a97e-b7ec694549c8",
              "statement_id": 11,
              "statement_ids": [
                11
              ],
              "state": "finished",
              "livy_statement_state": "available",
              "spark_jobs": {
                "numbers": {
                  "SUCCEEDED": 0,
                  "UNKNOWN": 0,
                  "RUNNING": 0,
                  "FAILED": 0
                },
                "jobs": [],
                "limit": 20,
                "rule": "ALL_DESC"
              },
              "session_id": "8",
              "normalized_state": "finished",
              "queued_time": "2024-09-15T13:43:48.9928083Z",
              "session_start_time": null,
              "execution_start_time": "2024-09-15T13:43:49.1268061Z",
              "execution_finish_time": "2024-09-15T13:43:49.4323089Z",
              "parent_msg_id": "140826c4-1d9c-4e0e-99b3-e86f63aa2919"
            },
            "text/plain": "StatementMeta(edb86fc0-857b-4b20-a97e-b7ec694549c8, 8, 11, Finished, Available, Finished)"
          },
          "metadata": {}
        },
        {
          "output_type": "execute_result",
          "execution_count": 21,
          "data": {
            "text/plain": "   movieId                               title  \\\n0        1                    Toy Story (1995)   \n1        2                      Jumanji (1995)   \n2        3             Grumpier Old Men (1995)   \n3        4            Waiting to Exhale (1995)   \n4        5  Father of the Bride Part II (1995)   \n\n                                        genres  \n0  Adventure|Animation|Children|Comedy|Fantasy  \n1                   Adventure|Children|Fantasy  \n2                               Comedy|Romance  \n3                         Comedy|Drama|Romance  \n4                                       Comedy  ",
            "text/html": "<div>\n<style scoped>\n    .dataframe tbody tr th:only-of-type {\n        vertical-align: middle;\n    }\n\n    .dataframe tbody tr th {\n        vertical-align: top;\n    }\n\n    .dataframe thead th {\n        text-align: right;\n    }\n</style>\n<table border=\"1\" class=\"dataframe\">\n  <thead>\n    <tr style=\"text-align: right;\">\n      <th></th>\n      <th>movieId</th>\n      <th>title</th>\n      <th>genres</th>\n    </tr>\n  </thead>\n  <tbody>\n    <tr>\n      <th>0</th>\n      <td>1</td>\n      <td>Toy Story (1995)</td>\n      <td>Adventure|Animation|Children|Comedy|Fantasy</td>\n    </tr>\n    <tr>\n      <th>1</th>\n      <td>2</td>\n      <td>Jumanji (1995)</td>\n      <td>Adventure|Children|Fantasy</td>\n    </tr>\n    <tr>\n      <th>2</th>\n      <td>3</td>\n      <td>Grumpier Old Men (1995)</td>\n      <td>Comedy|Romance</td>\n    </tr>\n    <tr>\n      <th>3</th>\n      <td>4</td>\n      <td>Waiting to Exhale (1995)</td>\n      <td>Comedy|Drama|Romance</td>\n    </tr>\n    <tr>\n      <th>4</th>\n      <td>5</td>\n      <td>Father of the Bride Part II (1995)</td>\n      <td>Comedy</td>\n    </tr>\n  </tbody>\n</table>\n</div>"
          },
          "metadata": {}
        }
      ],
      "execution_count": 6,
      "metadata": {
        "jupyter": {
          "source_hidden": false,
          "outputs_hidden": false
        },
        "nteract": {
          "transient": {
            "deleting": false
          }
        },
        "gather": {
          "logged": 1726407734708
        }
      }
    },
    {
      "cell_type": "code",
      "source": [
        "ratings.head()"
      ],
      "outputs": [
        {
          "output_type": "display_data",
          "data": {
            "application/vnd.livy.statement-meta+json": {
              "spark_pool": "edb86fc0-857b-4b20-a97e-b7ec694549c8",
              "statement_id": 12,
              "statement_ids": [
                12
              ],
              "state": "finished",
              "livy_statement_state": "available",
              "spark_jobs": {
                "numbers": {
                  "SUCCEEDED": 0,
                  "UNKNOWN": 0,
                  "RUNNING": 0,
                  "FAILED": 0
                },
                "jobs": [],
                "limit": 20,
                "rule": "ALL_DESC"
              },
              "session_id": "8",
              "normalized_state": "finished",
              "queued_time": "2024-09-15T13:44:07.4830453Z",
              "session_start_time": null,
              "execution_start_time": "2024-09-15T13:44:07.6187484Z",
              "execution_finish_time": "2024-09-15T13:44:07.9336109Z",
              "parent_msg_id": "6f47e272-2b61-49a7-8569-c1222f213d78"
            },
            "text/plain": "StatementMeta(edb86fc0-857b-4b20-a97e-b7ec694549c8, 8, 12, Finished, Available, Finished)"
          },
          "metadata": {}
        },
        {
          "output_type": "execute_result",
          "execution_count": 23,
          "data": {
            "text/plain": "   userId  movieId  rating  timestamp\n0       1        1     4.0  964982703\n1       1        3     4.0  964981247\n2       1        6     4.0  964982224\n3       1       47     5.0  964983815\n4       1       50     5.0  964982931",
            "text/html": "<div>\n<style scoped>\n    .dataframe tbody tr th:only-of-type {\n        vertical-align: middle;\n    }\n\n    .dataframe tbody tr th {\n        vertical-align: top;\n    }\n\n    .dataframe thead th {\n        text-align: right;\n    }\n</style>\n<table border=\"1\" class=\"dataframe\">\n  <thead>\n    <tr style=\"text-align: right;\">\n      <th></th>\n      <th>userId</th>\n      <th>movieId</th>\n      <th>rating</th>\n      <th>timestamp</th>\n    </tr>\n  </thead>\n  <tbody>\n    <tr>\n      <th>0</th>\n      <td>1</td>\n      <td>1</td>\n      <td>4.0</td>\n      <td>964982703</td>\n    </tr>\n    <tr>\n      <th>1</th>\n      <td>1</td>\n      <td>3</td>\n      <td>4.0</td>\n      <td>964981247</td>\n    </tr>\n    <tr>\n      <th>2</th>\n      <td>1</td>\n      <td>6</td>\n      <td>4.0</td>\n      <td>964982224</td>\n    </tr>\n    <tr>\n      <th>3</th>\n      <td>1</td>\n      <td>47</td>\n      <td>5.0</td>\n      <td>964983815</td>\n    </tr>\n    <tr>\n      <th>4</th>\n      <td>1</td>\n      <td>50</td>\n      <td>5.0</td>\n      <td>964982931</td>\n    </tr>\n  </tbody>\n</table>\n</div>"
          },
          "metadata": {}
        }
      ],
      "execution_count": 7,
      "metadata": {
        "jupyter": {
          "source_hidden": false,
          "outputs_hidden": false
        },
        "nteract": {
          "transient": {
            "deleting": false
          }
        },
        "gather": {
          "logged": 1726407753070
        }
      }
    },
    {
      "cell_type": "code",
      "source": [
        "tags.head()"
      ],
      "outputs": [
        {
          "output_type": "display_data",
          "data": {
            "application/vnd.livy.statement-meta+json": {
              "spark_pool": "edb86fc0-857b-4b20-a97e-b7ec694549c8",
              "statement_id": 13,
              "statement_ids": [
                13
              ],
              "state": "finished",
              "livy_statement_state": "available",
              "spark_jobs": {
                "numbers": {
                  "SUCCEEDED": 0,
                  "UNKNOWN": 0,
                  "RUNNING": 0,
                  "FAILED": 0
                },
                "jobs": [],
                "limit": 20,
                "rule": "ALL_DESC"
              },
              "session_id": "8",
              "normalized_state": "finished",
              "queued_time": "2024-09-15T13:44:26.0565734Z",
              "session_start_time": null,
              "execution_start_time": "2024-09-15T13:44:26.1880627Z",
              "execution_finish_time": "2024-09-15T13:44:26.4871414Z",
              "parent_msg_id": "62a56894-a8bb-42ca-87f9-e5b21c613e57"
            },
            "text/plain": "StatementMeta(edb86fc0-857b-4b20-a97e-b7ec694549c8, 8, 13, Finished, Available, Finished)"
          },
          "metadata": {}
        },
        {
          "output_type": "execute_result",
          "execution_count": 25,
          "data": {
            "text/plain": "   userId  movieId              tag   timestamp\n0       2    60756            funny  1445714994\n1       2    60756  Highly quotable  1445714996\n2       2    60756     will ferrell  1445714992\n3       2    89774     Boxing story  1445715207\n4       2    89774              MMA  1445715200",
            "text/html": "<div>\n<style scoped>\n    .dataframe tbody tr th:only-of-type {\n        vertical-align: middle;\n    }\n\n    .dataframe tbody tr th {\n        vertical-align: top;\n    }\n\n    .dataframe thead th {\n        text-align: right;\n    }\n</style>\n<table border=\"1\" class=\"dataframe\">\n  <thead>\n    <tr style=\"text-align: right;\">\n      <th></th>\n      <th>userId</th>\n      <th>movieId</th>\n      <th>tag</th>\n      <th>timestamp</th>\n    </tr>\n  </thead>\n  <tbody>\n    <tr>\n      <th>0</th>\n      <td>2</td>\n      <td>60756</td>\n      <td>funny</td>\n      <td>1445714994</td>\n    </tr>\n    <tr>\n      <th>1</th>\n      <td>2</td>\n      <td>60756</td>\n      <td>Highly quotable</td>\n      <td>1445714996</td>\n    </tr>\n    <tr>\n      <th>2</th>\n      <td>2</td>\n      <td>60756</td>\n      <td>will ferrell</td>\n      <td>1445714992</td>\n    </tr>\n    <tr>\n      <th>3</th>\n      <td>2</td>\n      <td>89774</td>\n      <td>Boxing story</td>\n      <td>1445715207</td>\n    </tr>\n    <tr>\n      <th>4</th>\n      <td>2</td>\n      <td>89774</td>\n      <td>MMA</td>\n      <td>1445715200</td>\n    </tr>\n  </tbody>\n</table>\n</div>"
          },
          "metadata": {}
        }
      ],
      "execution_count": 8,
      "metadata": {
        "jupyter": {
          "source_hidden": false,
          "outputs_hidden": false
        },
        "nteract": {
          "transient": {
            "deleting": false
          }
        },
        "gather": {
          "logged": 1726407771648
        }
      }
    },
    {
      "cell_type": "code",
      "source": [
        "links.head()"
      ],
      "outputs": [
        {
          "output_type": "display_data",
          "data": {
            "application/vnd.livy.statement-meta+json": {
              "spark_pool": "edb86fc0-857b-4b20-a97e-b7ec694549c8",
              "statement_id": 14,
              "statement_ids": [
                14
              ],
              "state": "finished",
              "livy_statement_state": "available",
              "spark_jobs": {
                "numbers": {
                  "SUCCEEDED": 0,
                  "UNKNOWN": 0,
                  "RUNNING": 0,
                  "FAILED": 0
                },
                "jobs": [],
                "limit": 20,
                "rule": "ALL_DESC"
              },
              "session_id": "8",
              "normalized_state": "finished",
              "queued_time": "2024-09-15T13:45:06.6068038Z",
              "session_start_time": null,
              "execution_start_time": "2024-09-15T13:45:06.7369249Z",
              "execution_finish_time": "2024-09-15T13:45:07.0676813Z",
              "parent_msg_id": "2a168db5-927f-4a39-8263-a63fffa5863e"
            },
            "text/plain": "StatementMeta(edb86fc0-857b-4b20-a97e-b7ec694549c8, 8, 14, Finished, Available, Finished)"
          },
          "metadata": {}
        },
        {
          "output_type": "execute_result",
          "execution_count": 27,
          "data": {
            "text/plain": "   movieId  imdbId   tmdbId\n0        1  114709    862.0\n1        2  113497   8844.0\n2        3  113228  15602.0\n3        4  114885  31357.0\n4        5  113041  11862.0",
            "text/html": "<div>\n<style scoped>\n    .dataframe tbody tr th:only-of-type {\n        vertical-align: middle;\n    }\n\n    .dataframe tbody tr th {\n        vertical-align: top;\n    }\n\n    .dataframe thead th {\n        text-align: right;\n    }\n</style>\n<table border=\"1\" class=\"dataframe\">\n  <thead>\n    <tr style=\"text-align: right;\">\n      <th></th>\n      <th>movieId</th>\n      <th>imdbId</th>\n      <th>tmdbId</th>\n    </tr>\n  </thead>\n  <tbody>\n    <tr>\n      <th>0</th>\n      <td>1</td>\n      <td>114709</td>\n      <td>862.0</td>\n    </tr>\n    <tr>\n      <th>1</th>\n      <td>2</td>\n      <td>113497</td>\n      <td>8844.0</td>\n    </tr>\n    <tr>\n      <th>2</th>\n      <td>3</td>\n      <td>113228</td>\n      <td>15602.0</td>\n    </tr>\n    <tr>\n      <th>3</th>\n      <td>4</td>\n      <td>114885</td>\n      <td>31357.0</td>\n    </tr>\n    <tr>\n      <th>4</th>\n      <td>5</td>\n      <td>113041</td>\n      <td>11862.0</td>\n    </tr>\n  </tbody>\n</table>\n</div>"
          },
          "metadata": {}
        }
      ],
      "execution_count": 9,
      "metadata": {
        "jupyter": {
          "source_hidden": false,
          "outputs_hidden": false
        },
        "nteract": {
          "transient": {
            "deleting": false
          }
        },
        "gather": {
          "logged": 1726407812211
        }
      }
    },
    {
      "cell_type": "code",
      "source": [
        "movies.dropna(inplace=True)\n",
        "ratings.dropna(inplace=True)\n",
        "links.dropna(inplace=True)\n",
        "tags.dropna(inplace=True)"
      ],
      "outputs": [
        {
          "output_type": "display_data",
          "data": {
            "application/vnd.livy.statement-meta+json": {
              "spark_pool": "edb86fc0-857b-4b20-a97e-b7ec694549c8",
              "statement_id": 15,
              "statement_ids": [
                15
              ],
              "state": "finished",
              "livy_statement_state": "available",
              "spark_jobs": {
                "numbers": {
                  "SUCCEEDED": 0,
                  "UNKNOWN": 0,
                  "RUNNING": 0,
                  "FAILED": 0
                },
                "jobs": [],
                "limit": 20,
                "rule": "ALL_DESC"
              },
              "session_id": "8",
              "normalized_state": "finished",
              "queued_time": "2024-09-15T13:45:53.1038348Z",
              "session_start_time": null,
              "execution_start_time": "2024-09-15T13:45:53.2516168Z",
              "execution_finish_time": "2024-09-15T13:45:53.5693596Z",
              "parent_msg_id": "fcdc6d5a-cea4-43ad-9580-4e870edb628b"
            },
            "text/plain": "StatementMeta(edb86fc0-857b-4b20-a97e-b7ec694549c8, 8, 15, Finished, Available, Finished)"
          },
          "metadata": {}
        }
      ],
      "execution_count": 10,
      "metadata": {
        "jupyter": {
          "source_hidden": false,
          "outputs_hidden": false
        },
        "nteract": {
          "transient": {
            "deleting": false
          }
        },
        "gather": {
          "logged": 1726407858679
        }
      }
    },
    {
      "cell_type": "code",
      "source": [
        "from tensorflow.keras.models import Model\n",
        "from tensorflow.keras.layers import Embedding, Flatten, Dense, Input, Concatenate, Dropout\n",
        "user_input = Input(shape=(1,), name='user_input')\n",
        "movie_input = Input(shape=(1,), name='movie_input')"
      ],
      "outputs": [
        {
          "output_type": "display_data",
          "data": {
            "application/vnd.livy.statement-meta+json": {
              "spark_pool": "edb86fc0-857b-4b20-a97e-b7ec694549c8",
              "statement_id": 46,
              "statement_ids": [
                46
              ],
              "state": "finished",
              "livy_statement_state": "available",
              "spark_jobs": {
                "numbers": {
                  "SUCCEEDED": 0,
                  "UNKNOWN": 0,
                  "RUNNING": 0,
                  "FAILED": 0
                },
                "jobs": [],
                "limit": 20,
                "rule": "ALL_DESC"
              },
              "session_id": "8",
              "normalized_state": "finished",
              "queued_time": "2024-09-15T14:25:09.0523009Z",
              "session_start_time": null,
              "execution_start_time": "2024-09-15T14:25:09.6799523Z",
              "execution_finish_time": "2024-09-15T14:25:09.9740277Z",
              "parent_msg_id": "89a931ee-8a1f-402f-a2d0-ff4b77ff88f8"
            },
            "text/plain": "StatementMeta(edb86fc0-857b-4b20-a97e-b7ec694549c8, 8, 46, Finished, Available, Finished)"
          },
          "metadata": {}
        }
      ],
      "execution_count": 41,
      "metadata": {
        "jupyter": {
          "source_hidden": false,
          "outputs_hidden": false
        },
        "nteract": {
          "transient": {
            "deleting": false
          }
        },
        "gather": {
          "logged": 1726410215151
        }
      }
    },
    {
      "cell_type": "code",
      "source": [
        "ratings = ratings.groupby('userId').filter(lambda x: len(x) >= 50)\n",
        "\n",
        "# Filtrar filmes com pelo menos 50 avaliações\n",
        "ratings = ratings.groupby('movieId').filter(lambda x: len(x) >= 50)"
      ],
      "outputs": [
        {
          "output_type": "display_data",
          "data": {
            "application/vnd.livy.statement-meta+json": {
              "spark_pool": "edb86fc0-857b-4b20-a97e-b7ec694549c8",
              "statement_id": 24,
              "statement_ids": [
                24
              ],
              "state": "finished",
              "livy_statement_state": "available",
              "spark_jobs": {
                "numbers": {
                  "SUCCEEDED": 0,
                  "UNKNOWN": 0,
                  "RUNNING": 0,
                  "FAILED": 0
                },
                "jobs": [],
                "limit": 20,
                "rule": "ALL_DESC"
              },
              "session_id": "8",
              "normalized_state": "finished",
              "queued_time": "2024-09-15T14:00:52.9872731Z",
              "session_start_time": null,
              "execution_start_time": "2024-09-15T14:00:53.1675017Z",
              "execution_finish_time": "2024-09-15T14:00:53.9981425Z",
              "parent_msg_id": "cc9505c4-074f-471f-bf0a-40f5a2d042d9"
            },
            "text/plain": "StatementMeta(edb86fc0-857b-4b20-a97e-b7ec694549c8, 8, 24, Finished, Available, Finished)"
          },
          "metadata": {}
        }
      ],
      "execution_count": 19,
      "metadata": {
        "jupyter": {
          "source_hidden": false,
          "outputs_hidden": false
        },
        "nteract": {
          "transient": {
            "deleting": false
          }
        },
        "gather": {
          "logged": 1726408759115
        }
      }
    },
    {
      "cell_type": "code",
      "source": [
        "rating_with_movies = pd.merge(ratings, movies, on='movieId')"
      ],
      "outputs": [
        {
          "output_type": "display_data",
          "data": {
            "application/vnd.livy.statement-meta+json": {
              "spark_pool": "edb86fc0-857b-4b20-a97e-b7ec694549c8",
              "statement_id": 25,
              "statement_ids": [
                25
              ],
              "state": "finished",
              "livy_statement_state": "available",
              "spark_jobs": {
                "numbers": {
                  "SUCCEEDED": 0,
                  "UNKNOWN": 0,
                  "RUNNING": 0,
                  "FAILED": 0
                },
                "jobs": [],
                "limit": 20,
                "rule": "ALL_DESC"
              },
              "session_id": "8",
              "normalized_state": "finished",
              "queued_time": "2024-09-15T14:01:00.0979504Z",
              "session_start_time": null,
              "execution_start_time": "2024-09-15T14:01:00.2224837Z",
              "execution_finish_time": "2024-09-15T14:01:00.5397099Z",
              "parent_msg_id": "d6e31507-0cb2-4864-9a5a-ab85dbc78407"
            },
            "text/plain": "StatementMeta(edb86fc0-857b-4b20-a97e-b7ec694549c8, 8, 25, Finished, Available, Finished)"
          },
          "metadata": {}
        }
      ],
      "execution_count": 20,
      "metadata": {
        "jupyter": {
          "source_hidden": false,
          "outputs_hidden": false
        },
        "nteract": {
          "transient": {
            "deleting": false
          }
        },
        "gather": {
          "logged": 1726408765674
        }
      }
    },
    {
      "cell_type": "code",
      "source": [
        "data_with_tags = pd.merge(rating_with_movies, tags, how='inner', on=['movieId', 'userId'])"
      ],
      "outputs": [
        {
          "output_type": "display_data",
          "data": {
            "application/vnd.livy.statement-meta+json": {
              "spark_pool": "edb86fc0-857b-4b20-a97e-b7ec694549c8",
              "statement_id": 26,
              "statement_ids": [
                26
              ],
              "state": "finished",
              "livy_statement_state": "available",
              "spark_jobs": {
                "numbers": {
                  "SUCCEEDED": 0,
                  "UNKNOWN": 0,
                  "RUNNING": 0,
                  "FAILED": 0
                },
                "jobs": [],
                "limit": 20,
                "rule": "ALL_DESC"
              },
              "session_id": "8",
              "normalized_state": "finished",
              "queued_time": "2024-09-15T14:01:03.0096074Z",
              "session_start_time": null,
              "execution_start_time": "2024-09-15T14:01:03.1779668Z",
              "execution_finish_time": "2024-09-15T14:01:03.4873697Z",
              "parent_msg_id": "f8c4b415-acbf-4274-af30-4484a226de72"
            },
            "text/plain": "StatementMeta(edb86fc0-857b-4b20-a97e-b7ec694549c8, 8, 26, Finished, Available, Finished)"
          },
          "metadata": {}
        }
      ],
      "execution_count": 21,
      "metadata": {
        "jupyter": {
          "source_hidden": false,
          "outputs_hidden": false
        },
        "nteract": {
          "transient": {
            "deleting": false
          }
        },
        "gather": {
          "logged": 1726408768597
        }
      }
    },
    {
      "cell_type": "code",
      "source": [
        "data_with_tags.head()"
      ],
      "outputs": [
        {
          "output_type": "display_data",
          "data": {
            "application/vnd.livy.statement-meta+json": {
              "spark_pool": "edb86fc0-857b-4b20-a97e-b7ec694549c8",
              "statement_id": 27,
              "statement_ids": [
                27
              ],
              "state": "finished",
              "livy_statement_state": "available",
              "spark_jobs": {
                "numbers": {
                  "SUCCEEDED": 0,
                  "UNKNOWN": 0,
                  "RUNNING": 0,
                  "FAILED": 0
                },
                "jobs": [],
                "limit": 20,
                "rule": "ALL_DESC"
              },
              "session_id": "8",
              "normalized_state": "finished",
              "queued_time": "2024-09-15T14:01:05.5783007Z",
              "session_start_time": null,
              "execution_start_time": "2024-09-15T14:01:05.6928809Z",
              "execution_finish_time": "2024-09-15T14:01:05.9958883Z",
              "parent_msg_id": "8313d966-c060-4982-99a7-f4cd54442bee"
            },
            "text/plain": "StatementMeta(edb86fc0-857b-4b20-a97e-b7ec694549c8, 8, 27, Finished, Available, Finished)"
          },
          "metadata": {}
        },
        {
          "output_type": "execute_result",
          "execution_count": 53,
          "data": {
            "text/plain": "   userId  movieId  rating  timestamp_x                        title  \\\n0     336        1     4.0   1122227329             Toy Story (1995)   \n1     474        1     4.0    978575760             Toy Story (1995)   \n2     567        1     3.5   1525286001             Toy Story (1995)   \n3     424       47     5.0   1457842442  Seven (a.k.a. Se7en) (1995)   \n4     424       47     5.0   1457842442  Seven (a.k.a. Se7en) (1995)   \n\n                                        genres           tag  timestamp_y  \n0  Adventure|Animation|Children|Comedy|Fantasy         pixar   1139045764  \n1  Adventure|Animation|Children|Comedy|Fantasy         pixar   1137206825  \n2  Adventure|Animation|Children|Comedy|Fantasy           fun   1525286013  \n3                             Mystery|Thriller       mystery   1457842470  \n4                             Mystery|Thriller  twist ending   1457842458  ",
            "text/html": "<div>\n<style scoped>\n    .dataframe tbody tr th:only-of-type {\n        vertical-align: middle;\n    }\n\n    .dataframe tbody tr th {\n        vertical-align: top;\n    }\n\n    .dataframe thead th {\n        text-align: right;\n    }\n</style>\n<table border=\"1\" class=\"dataframe\">\n  <thead>\n    <tr style=\"text-align: right;\">\n      <th></th>\n      <th>userId</th>\n      <th>movieId</th>\n      <th>rating</th>\n      <th>timestamp_x</th>\n      <th>title</th>\n      <th>genres</th>\n      <th>tag</th>\n      <th>timestamp_y</th>\n    </tr>\n  </thead>\n  <tbody>\n    <tr>\n      <th>0</th>\n      <td>336</td>\n      <td>1</td>\n      <td>4.0</td>\n      <td>1122227329</td>\n      <td>Toy Story (1995)</td>\n      <td>Adventure|Animation|Children|Comedy|Fantasy</td>\n      <td>pixar</td>\n      <td>1139045764</td>\n    </tr>\n    <tr>\n      <th>1</th>\n      <td>474</td>\n      <td>1</td>\n      <td>4.0</td>\n      <td>978575760</td>\n      <td>Toy Story (1995)</td>\n      <td>Adventure|Animation|Children|Comedy|Fantasy</td>\n      <td>pixar</td>\n      <td>1137206825</td>\n    </tr>\n    <tr>\n      <th>2</th>\n      <td>567</td>\n      <td>1</td>\n      <td>3.5</td>\n      <td>1525286001</td>\n      <td>Toy Story (1995)</td>\n      <td>Adventure|Animation|Children|Comedy|Fantasy</td>\n      <td>fun</td>\n      <td>1525286013</td>\n    </tr>\n    <tr>\n      <th>3</th>\n      <td>424</td>\n      <td>47</td>\n      <td>5.0</td>\n      <td>1457842442</td>\n      <td>Seven (a.k.a. Se7en) (1995)</td>\n      <td>Mystery|Thriller</td>\n      <td>mystery</td>\n      <td>1457842470</td>\n    </tr>\n    <tr>\n      <th>4</th>\n      <td>424</td>\n      <td>47</td>\n      <td>5.0</td>\n      <td>1457842442</td>\n      <td>Seven (a.k.a. Se7en) (1995)</td>\n      <td>Mystery|Thriller</td>\n      <td>twist ending</td>\n      <td>1457842458</td>\n    </tr>\n  </tbody>\n</table>\n</div>"
          },
          "metadata": {}
        }
      ],
      "execution_count": 22,
      "metadata": {
        "jupyter": {
          "source_hidden": false,
          "outputs_hidden": false
        },
        "nteract": {
          "transient": {
            "deleting": false
          }
        },
        "gather": {
          "logged": 1726408771158
        }
      }
    },
    {
      "cell_type": "code",
      "source": [
        "tags.head()"
      ],
      "outputs": [
        {
          "output_type": "display_data",
          "data": {
            "application/vnd.livy.statement-meta+json": {
              "spark_pool": "edb86fc0-857b-4b20-a97e-b7ec694549c8",
              "statement_id": 21,
              "statement_ids": [
                21
              ],
              "state": "finished",
              "livy_statement_state": "available",
              "spark_jobs": {
                "numbers": {
                  "SUCCEEDED": 0,
                  "UNKNOWN": 0,
                  "RUNNING": 0,
                  "FAILED": 0
                },
                "jobs": [],
                "limit": 20,
                "rule": "ALL_DESC"
              },
              "session_id": "8",
              "normalized_state": "finished",
              "queued_time": "2024-09-15T13:58:29.2460263Z",
              "session_start_time": null,
              "execution_start_time": "2024-09-15T13:58:29.368547Z",
              "execution_finish_time": "2024-09-15T13:58:31.6323708Z",
              "parent_msg_id": "5344672a-a07e-40a6-a539-910e610b7f3a"
            },
            "text/plain": "StatementMeta(edb86fc0-857b-4b20-a97e-b7ec694549c8, 8, 21, Finished, Available, Finished)"
          },
          "metadata": {}
        },
        {
          "output_type": "execute_result",
          "execution_count": 41,
          "data": {
            "text/plain": "   userId  movieId              tag   timestamp\n0       2    60756            funny  1445714994\n1       2    60756  Highly quotable  1445714996\n2       2    60756     will ferrell  1445714992\n3       2    89774     Boxing story  1445715207\n4       2    89774              MMA  1445715200",
            "text/html": "<div>\n<style scoped>\n    .dataframe tbody tr th:only-of-type {\n        vertical-align: middle;\n    }\n\n    .dataframe tbody tr th {\n        vertical-align: top;\n    }\n\n    .dataframe thead th {\n        text-align: right;\n    }\n</style>\n<table border=\"1\" class=\"dataframe\">\n  <thead>\n    <tr style=\"text-align: right;\">\n      <th></th>\n      <th>userId</th>\n      <th>movieId</th>\n      <th>tag</th>\n      <th>timestamp</th>\n    </tr>\n  </thead>\n  <tbody>\n    <tr>\n      <th>0</th>\n      <td>2</td>\n      <td>60756</td>\n      <td>funny</td>\n      <td>1445714994</td>\n    </tr>\n    <tr>\n      <th>1</th>\n      <td>2</td>\n      <td>60756</td>\n      <td>Highly quotable</td>\n      <td>1445714996</td>\n    </tr>\n    <tr>\n      <th>2</th>\n      <td>2</td>\n      <td>60756</td>\n      <td>will ferrell</td>\n      <td>1445714992</td>\n    </tr>\n    <tr>\n      <th>3</th>\n      <td>2</td>\n      <td>89774</td>\n      <td>Boxing story</td>\n      <td>1445715207</td>\n    </tr>\n    <tr>\n      <th>4</th>\n      <td>2</td>\n      <td>89774</td>\n      <td>MMA</td>\n      <td>1445715200</td>\n    </tr>\n  </tbody>\n</table>\n</div>"
          },
          "metadata": {}
        }
      ],
      "execution_count": 16,
      "metadata": {
        "jupyter": {
          "source_hidden": false,
          "outputs_hidden": false
        },
        "nteract": {
          "transient": {
            "deleting": false
          }
        },
        "gather": {
          "logged": 1726408616788
        }
      }
    },
    {
      "cell_type": "code",
      "source": [
        "data = pd.merge(ratings, movies, on='movieId')\n",
        "data = pd.merge(data, tags, on=['userId', 'movieId'], how='inner')\n",
        "data = pd.merge(data, links, on='movieId', how='inner')"
      ],
      "outputs": [
        {
          "output_type": "display_data",
          "data": {
            "application/vnd.livy.statement-meta+json": {
              "spark_pool": "edb86fc0-857b-4b20-a97e-b7ec694549c8",
              "statement_id": 30,
              "statement_ids": [
                30
              ],
              "state": "finished",
              "livy_statement_state": "available",
              "spark_jobs": {
                "numbers": {
                  "SUCCEEDED": 0,
                  "UNKNOWN": 0,
                  "RUNNING": 0,
                  "FAILED": 0
                },
                "jobs": [],
                "limit": 20,
                "rule": "ALL_DESC"
              },
              "session_id": "8",
              "normalized_state": "finished",
              "queued_time": "2024-09-15T14:03:32.4432015Z",
              "session_start_time": null,
              "execution_start_time": "2024-09-15T14:03:32.5664842Z",
              "execution_finish_time": "2024-09-15T14:03:32.8695767Z",
              "parent_msg_id": "f5c21367-4512-4a24-b06c-ea430851abe7"
            },
            "text/plain": "StatementMeta(edb86fc0-857b-4b20-a97e-b7ec694549c8, 8, 30, Finished, Available, Finished)"
          },
          "metadata": {}
        }
      ],
      "execution_count": 25,
      "metadata": {
        "jupyter": {
          "source_hidden": false,
          "outputs_hidden": false
        },
        "nteract": {
          "transient": {
            "deleting": false
          }
        },
        "gather": {
          "logged": 1726408918069
        }
      }
    },
    {
      "cell_type": "code",
      "source": [
        "data.head()"
      ],
      "outputs": [
        {
          "output_type": "display_data",
          "data": {
            "application/vnd.livy.statement-meta+json": {
              "spark_pool": "edb86fc0-857b-4b20-a97e-b7ec694549c8",
              "statement_id": 31,
              "statement_ids": [
                31
              ],
              "state": "finished",
              "livy_statement_state": "available",
              "spark_jobs": {
                "numbers": {
                  "SUCCEEDED": 0,
                  "UNKNOWN": 0,
                  "RUNNING": 0,
                  "FAILED": 0
                },
                "jobs": [],
                "limit": 20,
                "rule": "ALL_DESC"
              },
              "session_id": "8",
              "normalized_state": "finished",
              "queued_time": "2024-09-15T14:03:34.6898795Z",
              "session_start_time": null,
              "execution_start_time": "2024-09-15T14:03:34.7992601Z",
              "execution_finish_time": "2024-09-15T14:03:35.1036844Z",
              "parent_msg_id": "2868fa1a-7cfa-45db-9f40-1163cef0e39b"
            },
            "text/plain": "StatementMeta(edb86fc0-857b-4b20-a97e-b7ec694549c8, 8, 31, Finished, Available, Finished)"
          },
          "metadata": {}
        },
        {
          "output_type": "execute_result",
          "execution_count": 61,
          "data": {
            "text/plain": "   userId  movieId  rating  timestamp_x                        title  \\\n0     336        1     4.0   1122227329             Toy Story (1995)   \n1     474        1     4.0    978575760             Toy Story (1995)   \n2     567        1     3.5   1525286001             Toy Story (1995)   \n3     424       47     5.0   1457842442  Seven (a.k.a. Se7en) (1995)   \n4     424       47     5.0   1457842442  Seven (a.k.a. Se7en) (1995)   \n\n                                        genres           tag  timestamp_y  \\\n0  Adventure|Animation|Children|Comedy|Fantasy         pixar   1139045764   \n1  Adventure|Animation|Children|Comedy|Fantasy         pixar   1137206825   \n2  Adventure|Animation|Children|Comedy|Fantasy           fun   1525286013   \n3                             Mystery|Thriller       mystery   1457842470   \n4                             Mystery|Thriller  twist ending   1457842458   \n\n   imdbId  tmdbId  \n0  114709   862.0  \n1  114709   862.0  \n2  114709   862.0  \n3  114369   807.0  \n4  114369   807.0  ",
            "text/html": "<div>\n<style scoped>\n    .dataframe tbody tr th:only-of-type {\n        vertical-align: middle;\n    }\n\n    .dataframe tbody tr th {\n        vertical-align: top;\n    }\n\n    .dataframe thead th {\n        text-align: right;\n    }\n</style>\n<table border=\"1\" class=\"dataframe\">\n  <thead>\n    <tr style=\"text-align: right;\">\n      <th></th>\n      <th>userId</th>\n      <th>movieId</th>\n      <th>rating</th>\n      <th>timestamp_x</th>\n      <th>title</th>\n      <th>genres</th>\n      <th>tag</th>\n      <th>timestamp_y</th>\n      <th>imdbId</th>\n      <th>tmdbId</th>\n    </tr>\n  </thead>\n  <tbody>\n    <tr>\n      <th>0</th>\n      <td>336</td>\n      <td>1</td>\n      <td>4.0</td>\n      <td>1122227329</td>\n      <td>Toy Story (1995)</td>\n      <td>Adventure|Animation|Children|Comedy|Fantasy</td>\n      <td>pixar</td>\n      <td>1139045764</td>\n      <td>114709</td>\n      <td>862.0</td>\n    </tr>\n    <tr>\n      <th>1</th>\n      <td>474</td>\n      <td>1</td>\n      <td>4.0</td>\n      <td>978575760</td>\n      <td>Toy Story (1995)</td>\n      <td>Adventure|Animation|Children|Comedy|Fantasy</td>\n      <td>pixar</td>\n      <td>1137206825</td>\n      <td>114709</td>\n      <td>862.0</td>\n    </tr>\n    <tr>\n      <th>2</th>\n      <td>567</td>\n      <td>1</td>\n      <td>3.5</td>\n      <td>1525286001</td>\n      <td>Toy Story (1995)</td>\n      <td>Adventure|Animation|Children|Comedy|Fantasy</td>\n      <td>fun</td>\n      <td>1525286013</td>\n      <td>114709</td>\n      <td>862.0</td>\n    </tr>\n    <tr>\n      <th>3</th>\n      <td>424</td>\n      <td>47</td>\n      <td>5.0</td>\n      <td>1457842442</td>\n      <td>Seven (a.k.a. Se7en) (1995)</td>\n      <td>Mystery|Thriller</td>\n      <td>mystery</td>\n      <td>1457842470</td>\n      <td>114369</td>\n      <td>807.0</td>\n    </tr>\n    <tr>\n      <th>4</th>\n      <td>424</td>\n      <td>47</td>\n      <td>5.0</td>\n      <td>1457842442</td>\n      <td>Seven (a.k.a. Se7en) (1995)</td>\n      <td>Mystery|Thriller</td>\n      <td>twist ending</td>\n      <td>1457842458</td>\n      <td>114369</td>\n      <td>807.0</td>\n    </tr>\n  </tbody>\n</table>\n</div>"
          },
          "metadata": {}
        }
      ],
      "execution_count": 26,
      "metadata": {
        "jupyter": {
          "source_hidden": false,
          "outputs_hidden": false
        },
        "nteract": {
          "transient": {
            "deleting": false
          }
        },
        "gather": {
          "logged": 1726408920269
        }
      }
    },
    {
      "cell_type": "code",
      "source": [
        "from sklearn.preprocessing import LabelEncoder"
      ],
      "outputs": [
        {
          "output_type": "display_data",
          "data": {
            "application/vnd.livy.statement-meta+json": {
              "spark_pool": "edb86fc0-857b-4b20-a97e-b7ec694549c8",
              "statement_id": 32,
              "statement_ids": [
                32
              ],
              "state": "finished",
              "livy_statement_state": "available",
              "spark_jobs": {
                "numbers": {
                  "SUCCEEDED": 0,
                  "UNKNOWN": 0,
                  "RUNNING": 0,
                  "FAILED": 0
                },
                "jobs": [],
                "limit": 20,
                "rule": "ALL_DESC"
              },
              "session_id": "8",
              "normalized_state": "finished",
              "queued_time": "2024-09-15T14:05:30.6543552Z",
              "session_start_time": null,
              "execution_start_time": "2024-09-15T14:05:30.785853Z",
              "execution_finish_time": "2024-09-15T14:05:31.0982407Z",
              "parent_msg_id": "6de915b0-e43c-48f1-829f-1c037cf4cac6"
            },
            "text/plain": "StatementMeta(edb86fc0-857b-4b20-a97e-b7ec694549c8, 8, 32, Finished, Available, Finished)"
          },
          "metadata": {}
        }
      ],
      "execution_count": 27,
      "metadata": {
        "jupyter": {
          "source_hidden": false,
          "outputs_hidden": false
        },
        "nteract": {
          "transient": {
            "deleting": false
          }
        },
        "gather": {
          "logged": 1726409036247
        }
      }
    },
    {
      "cell_type": "code",
      "source": [
        "user_encoder = LabelEncoder()"
      ],
      "outputs": [
        {
          "output_type": "display_data",
          "data": {
            "application/vnd.livy.statement-meta+json": {
              "spark_pool": "edb86fc0-857b-4b20-a97e-b7ec694549c8",
              "statement_id": 33,
              "statement_ids": [
                33
              ],
              "state": "finished",
              "livy_statement_state": "available",
              "spark_jobs": {
                "numbers": {
                  "SUCCEEDED": 0,
                  "UNKNOWN": 0,
                  "RUNNING": 0,
                  "FAILED": 0
                },
                "jobs": [],
                "limit": 20,
                "rule": "ALL_DESC"
              },
              "session_id": "8",
              "normalized_state": "finished",
              "queued_time": "2024-09-15T14:05:40.9125871Z",
              "session_start_time": null,
              "execution_start_time": "2024-09-15T14:05:41.0287353Z",
              "execution_finish_time": "2024-09-15T14:05:41.3558568Z",
              "parent_msg_id": "21390a76-2c0d-44b2-ab45-6d1d8edb30a2"
            },
            "text/plain": "StatementMeta(edb86fc0-857b-4b20-a97e-b7ec694549c8, 8, 33, Finished, Available, Finished)"
          },
          "metadata": {}
        }
      ],
      "execution_count": 28,
      "metadata": {
        "jupyter": {
          "source_hidden": false,
          "outputs_hidden": false
        },
        "nteract": {
          "transient": {
            "deleting": false
          }
        },
        "gather": {
          "logged": 1726409046485
        }
      }
    },
    {
      "cell_type": "code",
      "source": [
        "data['user'] = user_encoder.fit_transform(data['userId'])\n",
        "movie_encoder = LabelEncoder()\n",
        "data['movie'] = movie_encoder.fit_transform(data['movieId'])"
      ],
      "outputs": [
        {
          "output_type": "display_data",
          "data": {
            "application/vnd.livy.statement-meta+json": {
              "spark_pool": "edb86fc0-857b-4b20-a97e-b7ec694549c8",
              "statement_id": 34,
              "statement_ids": [
                34
              ],
              "state": "finished",
              "livy_statement_state": "available",
              "spark_jobs": {
                "numbers": {
                  "SUCCEEDED": 0,
                  "UNKNOWN": 0,
                  "RUNNING": 0,
                  "FAILED": 0
                },
                "jobs": [],
                "limit": 20,
                "rule": "ALL_DESC"
              },
              "session_id": "8",
              "normalized_state": "finished",
              "queued_time": "2024-09-15T14:06:52.1765525Z",
              "session_start_time": null,
              "execution_start_time": "2024-09-15T14:06:53.0299362Z",
              "execution_finish_time": "2024-09-15T14:06:53.348663Z",
              "parent_msg_id": "0da4c103-6ea9-40ab-b45b-ebe24bdfc772"
            },
            "text/plain": "StatementMeta(edb86fc0-857b-4b20-a97e-b7ec694549c8, 8, 34, Finished, Available, Finished)"
          },
          "metadata": {}
        }
      ],
      "execution_count": 29,
      "metadata": {
        "jupyter": {
          "source_hidden": false,
          "outputs_hidden": false
        },
        "nteract": {
          "transient": {
            "deleting": false
          }
        },
        "gather": {
          "logged": 1726409118499
        }
      }
    },
    {
      "cell_type": "code",
      "source": [
        "user = data['user'].nunique()\n",
        "movies = data['movie'].nunique()\n",
        "\n",
        "print(f'número de usuários: {user}')"
      ],
      "outputs": [
        {
          "output_type": "display_data",
          "data": {
            "application/vnd.livy.statement-meta+json": {
              "spark_pool": "edb86fc0-857b-4b20-a97e-b7ec694549c8",
              "statement_id": 35,
              "statement_ids": [
                35
              ],
              "state": "finished",
              "livy_statement_state": "available",
              "spark_jobs": {
                "numbers": {
                  "SUCCEEDED": 0,
                  "UNKNOWN": 0,
                  "RUNNING": 0,
                  "FAILED": 0
                },
                "jobs": [],
                "limit": 20,
                "rule": "ALL_DESC"
              },
              "session_id": "8",
              "normalized_state": "finished",
              "queued_time": "2024-09-15T14:09:08.6487153Z",
              "session_start_time": null,
              "execution_start_time": "2024-09-15T14:09:08.7661767Z",
              "execution_finish_time": "2024-09-15T14:09:09.0886695Z",
              "parent_msg_id": "24fc8c5f-0542-4f3a-83f8-cfc6c223eaaf"
            },
            "text/plain": "StatementMeta(edb86fc0-857b-4b20-a97e-b7ec694549c8, 8, 35, Finished, Available, Finished)"
          },
          "metadata": {}
        },
        {
          "output_type": "stream",
          "name": "stdout",
          "text": "número de usuários: 23\n"
        }
      ],
      "execution_count": 30,
      "metadata": {
        "jupyter": {
          "source_hidden": false,
          "outputs_hidden": false
        },
        "nteract": {
          "transient": {
            "deleting": false
          }
        },
        "gather": {
          "logged": 1726409254251
        }
      }
    },
    {
      "cell_type": "code",
      "source": [
        "print(f'número de mvoies: {movies}')"
      ],
      "outputs": [
        {
          "output_type": "display_data",
          "data": {
            "application/vnd.livy.statement-meta+json": {
              "spark_pool": "edb86fc0-857b-4b20-a97e-b7ec694549c8",
              "statement_id": 36,
              "statement_ids": [
                36
              ],
              "state": "finished",
              "livy_statement_state": "available",
              "spark_jobs": {
                "numbers": {
                  "SUCCEEDED": 0,
                  "UNKNOWN": 0,
                  "RUNNING": 0,
                  "FAILED": 0
                },
                "jobs": [],
                "limit": 20,
                "rule": "ALL_DESC"
              },
              "session_id": "8",
              "normalized_state": "finished",
              "queued_time": "2024-09-15T14:10:17.1485322Z",
              "session_start_time": null,
              "execution_start_time": "2024-09-15T14:10:17.2788654Z",
              "execution_finish_time": "2024-09-15T14:10:17.6101768Z",
              "parent_msg_id": "ab6eb13a-3ccc-4e1b-8327-d919cdd24a0c"
            },
            "text/plain": "StatementMeta(edb86fc0-857b-4b20-a97e-b7ec694549c8, 8, 36, Finished, Available, Finished)"
          },
          "metadata": {}
        },
        {
          "output_type": "stream",
          "name": "stdout",
          "text": "número de mvoies: 290\n"
        }
      ],
      "execution_count": 31,
      "metadata": {
        "jupyter": {
          "source_hidden": false,
          "outputs_hidden": false
        },
        "nteract": {
          "transient": {
            "deleting": false
          }
        },
        "gather": {
          "logged": 1726409322766
        }
      }
    },
    {
      "cell_type": "code",
      "source": [
        "data['interaction'] = data['rating'].apply(lambda x: 1 if x >= 4 else 0)"
      ],
      "outputs": [
        {
          "output_type": "display_data",
          "data": {
            "application/vnd.livy.statement-meta+json": {
              "spark_pool": "edb86fc0-857b-4b20-a97e-b7ec694549c8",
              "statement_id": 37,
              "statement_ids": [
                37
              ],
              "state": "finished",
              "livy_statement_state": "available",
              "spark_jobs": {
                "numbers": {
                  "SUCCEEDED": 0,
                  "UNKNOWN": 0,
                  "RUNNING": 0,
                  "FAILED": 0
                },
                "jobs": [],
                "limit": 20,
                "rule": "ALL_DESC"
              },
              "session_id": "8",
              "normalized_state": "finished",
              "queued_time": "2024-09-15T14:13:07.7135156Z",
              "session_start_time": null,
              "execution_start_time": "2024-09-15T14:13:07.8679138Z",
              "execution_finish_time": "2024-09-15T14:13:08.1710661Z",
              "parent_msg_id": "dcf57d9c-a652-41ea-aae6-a34a950d4b94"
            },
            "text/plain": "StatementMeta(edb86fc0-857b-4b20-a97e-b7ec694549c8, 8, 37, Finished, Available, Finished)"
          },
          "metadata": {}
        }
      ],
      "execution_count": 32,
      "metadata": {
        "jupyter": {
          "source_hidden": false,
          "outputs_hidden": false
        },
        "nteract": {
          "transient": {
            "deleting": false
          }
        },
        "gather": {
          "logged": 1726409493328
        }
      }
    },
    {
      "cell_type": "code",
      "source": [
        "from sklearn.model_selection import train_test_split"
      ],
      "outputs": [
        {
          "output_type": "display_data",
          "data": {
            "application/vnd.livy.statement-meta+json": {
              "spark_pool": "edb86fc0-857b-4b20-a97e-b7ec694549c8",
              "statement_id": 38,
              "statement_ids": [
                38
              ],
              "state": "finished",
              "livy_statement_state": "available",
              "spark_jobs": {
                "numbers": {
                  "SUCCEEDED": 0,
                  "UNKNOWN": 0,
                  "RUNNING": 0,
                  "FAILED": 0
                },
                "jobs": [],
                "limit": 20,
                "rule": "ALL_DESC"
              },
              "session_id": "8",
              "normalized_state": "finished",
              "queued_time": "2024-09-15T14:15:30.9029294Z",
              "session_start_time": null,
              "execution_start_time": "2024-09-15T14:15:31.0287964Z",
              "execution_finish_time": "2024-09-15T14:15:31.9110178Z",
              "parent_msg_id": "86e45220-2082-4e32-8c21-17d83cc043a8"
            },
            "text/plain": "StatementMeta(edb86fc0-857b-4b20-a97e-b7ec694549c8, 8, 38, Finished, Available, Finished)"
          },
          "metadata": {}
        }
      ],
      "execution_count": 33,
      "metadata": {
        "jupyter": {
          "source_hidden": false,
          "outputs_hidden": false
        },
        "nteract": {
          "transient": {
            "deleting": false
          }
        },
        "gather": {
          "logged": 1726409637073
        }
      }
    },
    {
      "cell_type": "code",
      "source": [
        "X = data[['user', 'movie']]\n",
        "y = data['interaction']\n",
        "\n",
        "X_train, X_test, y_train, y_test = train_test_split(X,y, test_size=0.2, random_state=42)"
      ],
      "outputs": [
        {
          "output_type": "display_data",
          "data": {
            "application/vnd.livy.statement-meta+json": {
              "spark_pool": "edb86fc0-857b-4b20-a97e-b7ec694549c8",
              "statement_id": 57,
              "statement_ids": [
                57
              ],
              "state": "finished",
              "livy_statement_state": "available",
              "spark_jobs": {
                "numbers": {
                  "SUCCEEDED": 0,
                  "UNKNOWN": 0,
                  "RUNNING": 0,
                  "FAILED": 0
                },
                "jobs": [],
                "limit": 20,
                "rule": "ALL_DESC"
              },
              "session_id": "8",
              "normalized_state": "finished",
              "queued_time": "2024-09-15T14:31:09.9581271Z",
              "session_start_time": null,
              "execution_start_time": "2024-09-15T14:31:10.0827733Z",
              "execution_finish_time": "2024-09-15T14:31:10.3980429Z",
              "parent_msg_id": "3b735c61-e609-4530-aa48-9367ff0e176a"
            },
            "text/plain": "StatementMeta(edb86fc0-857b-4b20-a97e-b7ec694549c8, 8, 57, Finished, Available, Finished)"
          },
          "metadata": {}
        }
      ],
      "execution_count": 52,
      "metadata": {
        "jupyter": {
          "source_hidden": false,
          "outputs_hidden": false
        },
        "nteract": {
          "transient": {
            "deleting": false
          }
        },
        "gather": {
          "logged": 1726410575579
        }
      }
    },
    {
      "cell_type": "code",
      "source": [
        "embedding_size = 50\n",
        "\n",
        "user_embedding = Embedding(input_dim=user, output_dim=embedding_size,name='user_embedding')(user_input)"
      ],
      "outputs": [
        {
          "output_type": "display_data",
          "data": {
            "application/vnd.livy.statement-meta+json": {
              "spark_pool": "edb86fc0-857b-4b20-a97e-b7ec694549c8",
              "statement_id": 50,
              "statement_ids": [
                50
              ],
              "state": "finished",
              "livy_statement_state": "available",
              "spark_jobs": {
                "numbers": {
                  "SUCCEEDED": 0,
                  "UNKNOWN": 0,
                  "RUNNING": 0,
                  "FAILED": 0
                },
                "jobs": [],
                "limit": 20,
                "rule": "ALL_DESC"
              },
              "session_id": "8",
              "normalized_state": "finished",
              "queued_time": "2024-09-15T14:26:42.3960113Z",
              "session_start_time": null,
              "execution_start_time": "2024-09-15T14:26:42.5232471Z",
              "execution_finish_time": "2024-09-15T14:26:42.8262445Z",
              "parent_msg_id": "10c26258-0152-4b4b-b29e-13fb6df4f552"
            },
            "text/plain": "StatementMeta(edb86fc0-857b-4b20-a97e-b7ec694549c8, 8, 50, Finished, Available, Finished)"
          },
          "metadata": {}
        }
      ],
      "execution_count": 45,
      "metadata": {
        "jupyter": {
          "source_hidden": false,
          "outputs_hidden": false
        },
        "nteract": {
          "transient": {
            "deleting": false
          }
        },
        "gather": {
          "logged": 1726410308003
        }
      }
    },
    {
      "cell_type": "code",
      "source": [
        "movie_embedding = Embedding(input_dim=movies, output_dim=embedding_size, name='movie_embedding')(movie_input)"
      ],
      "outputs": [
        {
          "output_type": "display_data",
          "data": {
            "application/vnd.livy.statement-meta+json": {
              "spark_pool": "edb86fc0-857b-4b20-a97e-b7ec694549c8",
              "statement_id": 49,
              "statement_ids": [
                49
              ],
              "state": "finished",
              "livy_statement_state": "available",
              "spark_jobs": {
                "numbers": {
                  "SUCCEEDED": 0,
                  "UNKNOWN": 0,
                  "RUNNING": 0,
                  "FAILED": 0
                },
                "jobs": [],
                "limit": 20,
                "rule": "ALL_DESC"
              },
              "session_id": "8",
              "normalized_state": "finished",
              "queued_time": "2024-09-15T14:26:39.5234443Z",
              "session_start_time": null,
              "execution_start_time": "2024-09-15T14:26:39.69315Z",
              "execution_finish_time": "2024-09-15T14:26:39.9911877Z",
              "parent_msg_id": "4825813b-aec1-4639-91ab-6a1af4e66f1d"
            },
            "text/plain": "StatementMeta(edb86fc0-857b-4b20-a97e-b7ec694549c8, 8, 49, Finished, Available, Finished)"
          },
          "metadata": {}
        }
      ],
      "execution_count": 44,
      "metadata": {
        "jupyter": {
          "source_hidden": false,
          "outputs_hidden": false
        },
        "nteract": {
          "transient": {
            "deleting": false
          }
        },
        "gather": {
          "logged": 1726410305197
        }
      }
    },
    {
      "cell_type": "code",
      "source": [
        "user_vec = Flatten()(user_embedding)\n",
        "movie_vec = Flatten()(movie_embedding)"
      ],
      "outputs": [
        {
          "output_type": "display_data",
          "data": {
            "application/vnd.livy.statement-meta+json": {
              "spark_pool": "edb86fc0-857b-4b20-a97e-b7ec694549c8",
              "statement_id": 51,
              "statement_ids": [
                51
              ],
              "state": "finished",
              "livy_statement_state": "available",
              "spark_jobs": {
                "numbers": {
                  "SUCCEEDED": 0,
                  "UNKNOWN": 0,
                  "RUNNING": 0,
                  "FAILED": 0
                },
                "jobs": [],
                "limit": 20,
                "rule": "ALL_DESC"
              },
              "session_id": "8",
              "normalized_state": "finished",
              "queued_time": "2024-09-15T14:26:44.8996198Z",
              "session_start_time": null,
              "execution_start_time": "2024-09-15T14:26:45.0141943Z",
              "execution_finish_time": "2024-09-15T14:26:45.3168266Z",
              "parent_msg_id": "d030b5a1-54c9-4e4e-aa77-beb5af3bfee9"
            },
            "text/plain": "StatementMeta(edb86fc0-857b-4b20-a97e-b7ec694549c8, 8, 51, Finished, Available, Finished)"
          },
          "metadata": {}
        }
      ],
      "execution_count": 46,
      "metadata": {
        "jupyter": {
          "source_hidden": false,
          "outputs_hidden": false
        },
        "nteract": {
          "transient": {
            "deleting": false
          }
        },
        "gather": {
          "logged": 1726410310496
        }
      }
    },
    {
      "cell_type": "code",
      "source": [
        "concat = Concatenate()([user_vec, movie_vec])\n",
        "\n",
        "# Camadas densas para capturar interações não lineares\n",
        "dense_1 = Dense(128, activation='relu')(concat)\n",
        "dense_1 = Dropout(0.5)(dense_1)\n",
        "dense_2 = Dense(64, activation='relu')(dense_1)\n",
        "dense_2 = Dropout(0.5)(dense_2)\n",
        "\n",
        "# Saída\n",
        "output = Dense(1, activation='sigmoid')(dense_2)"
      ],
      "outputs": [
        {
          "output_type": "display_data",
          "data": {
            "application/vnd.livy.statement-meta+json": {
              "spark_pool": "edb86fc0-857b-4b20-a97e-b7ec694549c8",
              "statement_id": 52,
              "statement_ids": [
                52
              ],
              "state": "finished",
              "livy_statement_state": "available",
              "spark_jobs": {
                "numbers": {
                  "SUCCEEDED": 0,
                  "UNKNOWN": 0,
                  "RUNNING": 0,
                  "FAILED": 0
                },
                "jobs": [],
                "limit": 20,
                "rule": "ALL_DESC"
              },
              "session_id": "8",
              "normalized_state": "finished",
              "queued_time": "2024-09-15T14:26:47.2756441Z",
              "session_start_time": null,
              "execution_start_time": "2024-09-15T14:26:47.4134824Z",
              "execution_finish_time": "2024-09-15T14:26:47.7318075Z",
              "parent_msg_id": "0c905172-5b76-4bdb-b4ba-2cac8bd48d5d"
            },
            "text/plain": "StatementMeta(edb86fc0-857b-4b20-a97e-b7ec694549c8, 8, 52, Finished, Available, Finished)"
          },
          "metadata": {}
        }
      ],
      "execution_count": 47,
      "metadata": {
        "jupyter": {
          "source_hidden": false,
          "outputs_hidden": false
        },
        "nteract": {
          "transient": {
            "deleting": false
          }
        },
        "gather": {
          "logged": 1726410312895
        }
      }
    },
    {
      "cell_type": "code",
      "source": [
        "from tensorflow.keras.optimizers import Adam\n",
        "model = Model(inputs=[user_input, movie_input], outputs=output)\n",
        "model.compile(optimizer=Adam(learning_rate=0.001), loss='binary_crossentropy', metrics=['accuracy'])\n",
        "\n",
        "model.summary()"
      ],
      "outputs": [
        {
          "output_type": "display_data",
          "data": {
            "application/vnd.livy.statement-meta+json": {
              "spark_pool": "edb86fc0-857b-4b20-a97e-b7ec694549c8",
              "statement_id": 53,
              "statement_ids": [
                53
              ],
              "state": "finished",
              "livy_statement_state": "available",
              "spark_jobs": {
                "numbers": {
                  "SUCCEEDED": 0,
                  "UNKNOWN": 0,
                  "RUNNING": 0,
                  "FAILED": 0
                },
                "jobs": [],
                "limit": 20,
                "rule": "ALL_DESC"
              },
              "session_id": "8",
              "normalized_state": "finished",
              "queued_time": "2024-09-15T14:26:50.4189683Z",
              "session_start_time": null,
              "execution_start_time": "2024-09-15T14:26:50.530274Z",
              "execution_finish_time": "2024-09-15T14:26:50.852984Z",
              "parent_msg_id": "013a64df-79e3-4011-8771-b04eca3de6a9"
            },
            "text/plain": "StatementMeta(edb86fc0-857b-4b20-a97e-b7ec694549c8, 8, 53, Finished, Available, Finished)"
          },
          "metadata": {}
        },
        {
          "output_type": "stream",
          "name": "stdout",
          "text": "Model: \"model_1\"\n__________________________________________________________________________________________________\n Layer (type)                   Output Shape         Param #     Connected to                     \n==================================================================================================\n user_input (InputLayer)        [(None, 1)]          0           []                               \n                                                                                                  \n movie_input (InputLayer)       [(None, 1)]          0           []                               \n                                                                                                  \n user_embedding (Embedding)     (None, 1, 50)        1150        ['user_input[0][0]']             \n                                                                                                  \n movie_embedding (Embedding)    (None, 1, 50)        14500       ['movie_input[0][0]']            \n                                                                                                  \n flatten_3 (Flatten)            (None, 50)           0           ['user_embedding[0][0]']         \n                                                                                                  \n flatten_4 (Flatten)            (None, 50)           0           ['movie_embedding[0][0]']        \n                                                                                                  \n concatenate_1 (Concatenate)    (None, 100)          0           ['flatten_3[0][0]',              \n                                                                  'flatten_4[0][0]']              \n                                                                                                  \n dense_3 (Dense)                (None, 128)          12928       ['concatenate_1[0][0]']          \n                                                                                                  \n dropout_2 (Dropout)            (None, 128)          0           ['dense_3[0][0]']                \n                                                                                                  \n dense_4 (Dense)                (None, 64)           8256        ['dropout_2[0][0]']              \n                                                                                                  \n dropout_3 (Dropout)            (None, 64)           0           ['dense_4[0][0]']                \n                                                                                                  \n dense_5 (Dense)                (None, 1)            65          ['dropout_3[0][0]']              \n                                                                                                  \n==================================================================================================\nTotal params: 36,899\nTrainable params: 36,899\nNon-trainable params: 0\n__________________________________________________________________________________________________\n"
        }
      ],
      "execution_count": 48,
      "metadata": {
        "jupyter": {
          "source_hidden": false,
          "outputs_hidden": false
        },
        "nteract": {
          "transient": {
            "deleting": false
          }
        },
        "gather": {
          "logged": 1726410316605
        }
      }
    },
    {
      "cell_type": "code",
      "source": [
        "X_train_user = X_train['user'].values\n",
        "X_train_movie = X_train['movie'].values\n",
        "y_train = y_train.values\n",
        "\n",
        "X_test_user = X_test['user'].values\n",
        "X_test_movie = X_test['movie'].values\n",
        "y_test = y_test.values"
      ],
      "outputs": [
        {
          "output_type": "display_data",
          "data": {
            "application/vnd.livy.statement-meta+json": {
              "spark_pool": "edb86fc0-857b-4b20-a97e-b7ec694549c8",
              "statement_id": 58,
              "statement_ids": [
                58
              ],
              "state": "finished",
              "livy_statement_state": "available",
              "spark_jobs": {
                "numbers": {
                  "SUCCEEDED": 0,
                  "UNKNOWN": 0,
                  "RUNNING": 0,
                  "FAILED": 0
                },
                "jobs": [],
                "limit": 20,
                "rule": "ALL_DESC"
              },
              "session_id": "8",
              "normalized_state": "finished",
              "queued_time": "2024-09-15T14:31:15.4371572Z",
              "session_start_time": null,
              "execution_start_time": "2024-09-15T14:31:16.5689373Z",
              "execution_finish_time": "2024-09-15T14:31:16.8738149Z",
              "parent_msg_id": "c008c4f2-2c58-4040-a2a2-411a3c6a818f"
            },
            "text/plain": "StatementMeta(edb86fc0-857b-4b20-a97e-b7ec694549c8, 8, 58, Finished, Available, Finished)"
          },
          "metadata": {}
        }
      ],
      "execution_count": 53,
      "metadata": {
        "jupyter": {
          "source_hidden": false,
          "outputs_hidden": false
        },
        "nteract": {
          "transient": {
            "deleting": false
          }
        },
        "gather": {
          "logged": 1726410582041
        }
      }
    },
    {
      "cell_type": "code",
      "source": [
        "history = model.fit([X_train_user, X_train_movie],\n",
        "y_train,\n",
        "epochs=100,\n",
        "batch_size=250,\n",
        "validation_data=([X_test_user, X_test_movie], y_test),\n",
        "verbose=True)"
      ],
      "outputs": [
        {
          "output_type": "display_data",
          "data": {
            "application/vnd.livy.statement-meta+json": {
              "spark_pool": "edb86fc0-857b-4b20-a97e-b7ec694549c8",
              "statement_id": 63,
              "statement_ids": [
                63
              ],
              "state": "submitted",
              "livy_statement_state": "running",
              "spark_jobs": {
                "numbers": {
                  "SUCCEEDED": 0,
                  "UNKNOWN": 0,
                  "RUNNING": 0,
                  "FAILED": 0
                },
                "jobs": [],
                "limit": 20,
                "rule": "ALL_DESC"
              },
              "session_id": "8",
              "normalized_state": "running",
              "queued_time": "2024-09-15T14:36:37.4611855Z",
              "session_start_time": null,
              "execution_start_time": "2024-09-15T14:36:37.5924969Z",
              "execution_finish_time": null,
              "parent_msg_id": "12b2fa89-75b3-41c6-b73b-2fd027be7383"
            },
            "text/plain": "StatementMeta(edb86fc0-857b-4b20-a97e-b7ec694549c8, 8, 63, Submitted, Running, Running)"
          },
          "metadata": {}
        },
        {
          "output_type": "stream",
          "name": "stdout",
          "text": "Epoch 1/100\n4/4 [==============================] - 0s 82ms/step - loss: 0.0139 - accuracy: 0.9978 - val_loss: 0.3456 - val_accuracy: 0.9264\b\b\b\b\b\b\b\b\b\b\b\b\b\b\b\b\b\b\b\b\b\b\b\b\b\b\b\b\b\b\b\b\b\nEpoch 2/100\n4/4 [==============================] - 0s 89ms/step - loss: 0.0143 - accuracy: 0.9967 - val_loss: 0.3469 - val_accuracy: 0.9264\b\b\b\b\b\b\b\b\b\b\b\b\b\b\b\b\b\b\b\b\b\b\b\b\b\b\b\b\b\b\b\b\b\nEpoch 3/100\n4/4 [==============================] - 0s 70ms/step - loss: 0.0152 - accuracy: 0.9978 - val_loss: 0.3471 - val_accuracy: 0.9264\b\b\b\b\b\b\b\b\b\b\b\b\b\b\b\b\b\b\b\b\b\b\b\b\b\b\b\b\b\b\b\b\b\nEpoch 4/100\n4/4 [==============================] - 0s 38ms/step - loss: 0.0142 - accuracy: 0.9978 - val_loss: 0.3475 - val_accuracy: 0.9264\b\b\b\b\b\b\b\b\b\b\b\b\b\b\b\b\b\b\b\b\b\b\b\b\b\b\b\b\b\b\b\b\b\nEpoch 5/100\n4/4 [==============================] - 0s 51ms/step - loss: 0.0126 - accuracy: 0.9978 - val_loss: 0.3501 - val_accuracy: 0.9264\b\b\b\b\b\b\b\b\b\b\b\b\b\b\b\b\b\b\b\b\b\b\b\b\b\b\b\b\b\b\b\b\b\nEpoch 6/100\n4/4 [==============================] - 0s 39ms/step - loss: 0.0140 - accuracy: 0.9967 - val_loss: 0.3524 - val_accuracy: 0.9264\b\b\b\b\b\b\b\b\b\b\b\b\b\b\b\b\b\b\b\b\b\b\b\b\b\b\b\b\b\b\b\b\b\nEpoch 7/100\n4/4 [==============================] - 0s 39ms/step - loss: 0.0117 - accuracy: 0.9978 - val_loss: 0.3539 - val_accuracy: 0.9264\b\b\b\b\b\b\b\b\b\b\b\b\b\b\b\b\b\b\b\b\b\b\b\b\b\b\b\b\b\b\b\b\b\nEpoch 8/100\n4/4 [==============================] - 0s 53ms/step - loss: 0.0126 - accuracy: 0.9967 - val_loss: 0.3557 - val_accuracy: 0.9264\b\b\b\b\b\b\b\b\b\b\b\b\b\b\b\b\b\b\b\b\b\b\b\b\b\b\b\b\b\b\b\b\b\nEpoch 9/100\n4/4 [==============================] - 0s 36ms/step - loss: 0.0100 - accuracy: 0.9978 - val_loss: 0.3579 - val_accuracy: 0.9264\b\b\b\b\b\b\b\b\b\b\b\b\b\b\b\b\b\b\b\b\b\b\b\b\b\b\b\b\b\b\b\b\b\nEpoch 10/100\n4/4 [==============================] - 0s 37ms/step - loss: 0.0115 - accuracy: 0.9978 - val_loss: 0.3614 - val_accuracy: 0.9264\b\b\b\b\b\b\b\b\b\b\b\b\b\b\b\b\b\b\b\b\b\b\b\b\b\b\b\b\b\b\b\b\b\nEpoch 11/100\n4/4 [==============================] - 0s 49ms/step - loss: 0.0115 - accuracy: 0.9978 - val_loss: 0.3643 - val_accuracy: 0.9264\b\b\b\b\b\b\b\b\b\b\b\b\b\b\b\b\b\b\b\b\b\b\b\b\b\b\b\b\b\b\b\b\b\nEpoch 12/100\n4/4 [==============================] - 0s 38ms/step - loss: 0.0095 - accuracy: 0.9978 - val_loss: 0.3672 - val_accuracy: 0.9221\b\b\b\b\b\b\b\b\b\b\b\b\b\b\b\b\b\b\b\b\b\b\b\b\b\b\b\b\b\b\b\b\b\nEpoch 13/100\n4/4 [==============================] - 0s 44ms/step - loss: 0.0116 - accuracy: 0.9957 - val_loss: 0.3694 - val_accuracy: 0.9264\b\b\b\b\b\b\b\b\b\b\b\b\b\b\b\b\b\b\b\b\b\b\b\b\b\b\b\b\b\b\b\b\b\nEpoch 14/100\n4/4 [==============================] - 0s 54ms/step - loss: 0.0106 - accuracy: 0.9978 - val_loss: 0.3714 - val_accuracy: 0.9307\b\b\b\b\b\b\b\b\b\b\b\b\b\b\b\b\b\b\b\b\b\b\b\b\b\b\b\b\b\b\b\b\b\nEpoch 15/100\n4/4 [==============================] - 0s 54ms/step - loss: 0.0118 - accuracy: 0.9978 - val_loss: 0.3730 - val_accuracy: 0.9307\b\b\b\b\b\b\b\b\b\b\b\b\b\b\b\b\b\b\b\b\b\b\b\b\b\b\b\b\b\b\b\b\b\nEpoch 16/100\n4/4 [==============================] - 0s 61ms/step - loss: 0.0090 - accuracy: 0.9978 - val_loss: 0.3755 - val_accuracy: 0.9307\b\b\b\b\b\b\b\b\b\b\b\b\b\b\b\b\b\b\b\b\b\b\b\b\b\b\b\b\b\b\b\b\b\nEpoch 17/100\n4/4 [==============================] - 0s 54ms/step - loss: 0.0109 - accuracy: 0.9978 - val_loss: 0.3771 - val_accuracy: 0.9264\b\b\b\b\b\b\b\b\b\b\b\b\b\b\b\b\b\b\b\b\b\b\b\b\b\b\b\b\b\b\b\b\b\nEpoch 18/100\n4/4 [==============================] - 0s 60ms/step - loss: 0.0103 - accuracy: 0.9978 - val_loss: 0.3788 - val_accuracy: 0.9221\b\b\b\b\b\b\b\b\b\b\b\b\b\b\b\b\b\b\b\b\b\b\b\b\b\b\b\b\b\b\b\b\b\nEpoch 19/100\n4/4 [==============================] - 0s 37ms/step - loss: 0.0107 - accuracy: 0.9978 - val_loss: 0.3798 - val_accuracy: 0.9221\b\b\b\b\b\b\b\b\b\b\b\b\b\b\b\b\b\b\b\b\b\b\b\b\b\b\b\b\b\b\b\b\b\nEpoch 20/100\n4/4 [==============================] - 0s 30ms/step - loss: 0.0082 - accuracy: 0.9978 - val_loss: 0.3821 - val_accuracy: 0.9221\b\b\b\b\b\b\b\b\b\b\b\b\b\b\b\b\b\b\b\b\b\b\b\b\b\b\b\b\b\b\b\b\b\nEpoch 21/100\n4/4 [==============================] - 0s 38ms/step - loss: 0.0072 - accuracy: 0.9978 - val_loss: 0.3852 - val_accuracy: 0.9264\b\b\b\b\b\b\b\b\b\b\b\b\b\b\b\b\b\b\b\b\b\b\b\b\b\b\b\b\b\b\b\b\b\nEpoch 22/100\n4/4 [==============================] - 0s 31ms/step - loss: 0.0083 - accuracy: 0.9978 - val_loss: 0.3875 - val_accuracy: 0.9264\b\b\b\b\b\b\b\b\b\b\b\b\b\b\b\b\b\b\b\b\b\b\b\b\b\b\b\b\b\b\b\b\b\nEpoch 23/100\n4/4 [==============================] - 0s 40ms/step - loss: 0.0078 - accuracy: 0.9978 - val_loss: 0.3890 - val_accuracy: 0.9264\b\b\b\b\b\b\b\b\b\b\b\b\b\b\b\b\b\b\b\b\b\b\b\b\b\b\b\b\b\b\b\b\b\nEpoch 24/100\n4/4 [==============================] - 0s 49ms/step - loss: 0.0088 - accuracy: 0.9978 - val_loss: 0.3901 - val_accuracy: 0.9264\b\b\b\b\b\b\b\b\b\b\b\b\b\b\b\b\b\b\b\b\b\b\b\b\b\b\b\b\b\b\b\b\b\nEpoch 25/100\n4/4 [==============================] - 0s 40ms/step - loss: 0.0078 - accuracy: 0.9978 - val_loss: 0.3907 - val_accuracy: 0.9264\b\b\b\b\b\b\b\b\b\b\b\b\b\b\b\b\b\b\b\b\b\b\b\b\b\b\b\b\b\b\b\b\b\nEpoch 26/100\n4/4 [==============================] - 0s 40ms/step - loss: 0.0078 - accuracy: 0.9978 - val_loss: 0.3936 - val_accuracy: 0.9264\b\b\b\b\b\b\b\b\b\b\b\b\b\b\b\b\b\b\b\b\b\b\b\b\b\b\b\b\b\b\b\b\b\nEpoch 27/100\n4/4 [==============================] - 0s 35ms/step - loss: 0.0075 - accuracy: 0.9978 - val_loss: 0.3965 - val_accuracy: 0.9264\b\b\b\b\b\b\b\b\b\b\b\b\b\b\b\b\b\b\b\b\b\b\b\b\b\b\b\b\b\b\b\b\b\nEpoch 28/100\n4/4 [==============================] - 0s 35ms/step - loss: 0.0073 - accuracy: 0.9978 - val_loss: 0.3990 - val_accuracy: 0.9264\b\b\b\b\b\b\b\b\b\b\b\b\b\b\b\b\b\b\b\b\b\b\b\b\b\b\b\b\b\b\b\b\b\nEpoch 29/100\n4/4 [==============================] - 0s 33ms/step - loss: 0.0062 - accuracy: 0.9978 - val_loss: 0.4012 - val_accuracy: 0.9264\b\b\b\b\b\b\b\b\b\b\b\b\b\b\b\b\b\b\b\b\b\b\b\b\b\b\b\b\b\b\b\b\b\nEpoch 30/100\n1/4 [======>.......................] - ETA: 0s - loss: 0.0053 - accuracy: 0.9960"
        }
      ],
      "execution_count": 58,
      "metadata": {
        "jupyter": {
          "source_hidden": false,
          "outputs_hidden": false
        },
        "nteract": {
          "transient": {
            "deleting": false
          }
        },
        "gather": {
          "logged": 1726410799346
        }
      }
    },
    {
      "cell_type": "code",
      "source": [],
      "outputs": [],
      "execution_count": null,
      "metadata": {
        "jupyter": {
          "source_hidden": false,
          "outputs_hidden": false
        },
        "nteract": {
          "transient": {
            "deleting": false
          }
        }
      }
    }
  ],
  "metadata": {
    "kernelspec": {
      "name": "synapse_pyspark",
      "language": "Python",
      "display_name": "Synapse PySpark"
    },
    "language_info": {
      "name": "python",
      "version": "3.8.0",
      "mimetype": "text/x-python",
      "file_extension": ".py",
      "pygments_lexer": "ipython",
      "codemirror_mode": "ipython",
      "nbconvert_exporter": "python"
    },
    "kernel_info": {
      "name": "synapse_pyspark"
    },
    "nteract": {
      "version": "nteract-front-end@1.0.0"
    }
  },
  "nbformat": 4,
  "nbformat_minor": 2
}